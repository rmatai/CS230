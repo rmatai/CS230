{
 "cells": [
  {
   "cell_type": "code",
   "execution_count": 1,
   "metadata": {
    "tags": [
     "libs"
    ]
   },
   "outputs": [],
   "source": [
    "import json\n",
    "from datetime import datetime\n",
    "import kragle as kg\n",
    "import sys\n",
    "import pandas as pd\n",
    "import math\n",
    "import numpy as np\n",
    "import scipy.stats as st\n",
    "import statsmodels.stats.api as sms\n",
    "from sklearn.metrics import r2_score, mean_squared_error\n",
    "import seaborn as sns\n",
    "import matplotlib.pyplot as plt\n",
    "import matplotlib.mlab as mlab\n",
    "import matplotlib.ticker as ticker\n",
    "import sklearn as sk\n",
    "\n",
    "np.set_printoptions(suppress=True) # prevent numpy exponential."
   ]
  },
  {
   "cell_type": "code",
   "execution_count": 2,
   "metadata": {
    "tags": [
     "load_data"
    ]
   },
   "outputs": [],
   "source": [
    "deepwalk_results = np.loadtxt(fname='success.txt', delimiter=' ', skiprows=1)"
   ]
  },
  {
   "cell_type": "code",
   "execution_count": 3,
   "metadata": {
    "tags": [
     "subset_data"
    ]
   },
   "outputs": [],
   "source": [
    "deepwalk_profile_ids = deepwalk_results[:,0]\n",
    "deepwalk_columns = deepwalk_results[:,1:]"
   ]
  },
  {
   "cell_type": "code",
   "execution_count": 4,
   "metadata": {
    "tags": [
     "debug"
    ]
   },
   "outputs": [
    {
     "name": "stdout",
     "output_type": "stream",
     "text": [
      "[ 7.92834656e+17 -2.33736800e-02 -7.41214000e-02  4.89024860e-02\n",
      " -7.09074800e-02  1.37341805e-02 -2.50322700e-01 -2.44972150e-01\n",
      " -1.36896540e-01  3.79769130e-02 -3.66139100e-01 -1.06888190e-01\n",
      " -1.03669570e-01 -2.31861650e-01  1.37896630e-01  4.85645560e-01\n",
      "  5.48315200e-02  2.89309400e-02 -2.75901910e-02  9.21273500e-02\n",
      " -1.87523260e-01 -7.96542500e-03  5.61375130e-02 -2.22922000e-01\n",
      " -9.33391450e-02 -2.49016820e-01  3.80636640e-02  1.53096110e-01\n",
      "  4.54617900e-01 -6.85669440e-05  2.53950260e-02  8.22962750e-02\n",
      "  1.49207550e-01  1.29822550e-01 -7.28711440e-03 -1.11241350e-01\n",
      "  6.26259440e-03 -1.90107430e-01  2.04679840e-02  3.12234370e-01\n",
      " -1.32626610e-01  6.11354080e-02  2.40695060e-01 -1.35825400e-01\n",
      " -7.69791700e-02 -7.60703100e-03 -1.25790010e-02  3.02192620e-03\n",
      " -1.36677790e-01 -3.66839050e-01  3.86278850e-02  6.62494900e-03\n",
      " -8.27743600e-04  1.94376510e-01  1.03079850e-01  1.30742550e-01\n",
      "  2.11160140e-01  8.81826650e-02  3.50890500e-01  2.65030350e-01\n",
      "  3.08337330e-01  2.24712970e-01  2.42820650e-01 -2.40251330e-01\n",
      "  4.27686870e-01  1.54865730e-01 -1.96234080e-01  2.17377950e-02\n",
      " -2.44004600e-01  1.19823490e-01 -2.85723480e-01 -1.15527585e-01\n",
      " -1.91821770e-01  3.99545730e-01 -4.26347260e-02 -2.30241780e-01\n",
      "  4.91996600e-01  1.11640856e-01 -2.46219530e-01 -1.28528950e-01\n",
      " -2.34924480e-01  1.91090380e-01 -8.11286200e-02 -6.79721500e-02\n",
      "  2.77544800e-01  1.84144330e-01  2.35910400e-02  3.19878350e-02\n",
      " -2.77162100e-01  1.95026870e-01  2.25359280e-01  1.06273256e-01\n",
      " -2.82932670e-02 -1.65031900e-01  2.31319670e-02  8.13554300e-02\n",
      "  9.58115160e-02 -1.37691830e-02 -2.57881670e-01 -4.18308940e-02\n",
      "  1.69433650e-01  1.90110430e-01  1.82713580e-01  3.24838580e-01\n",
      "  4.32678580e-01  1.21550960e-02 -4.33492300e-01  2.87662400e-01\n",
      "  2.08218710e-01 -4.11952900e-02  3.73449600e-02  1.38205760e-02\n",
      " -1.81417410e-02 -1.71580000e-01  3.50119100e-01 -4.28802040e-01\n",
      " -5.37542600e-01  1.56976900e-01 -4.61696500e-01 -1.34469140e-01\n",
      " -1.91495000e-01 -2.21318070e-01  1.22783884e-01  1.54420970e-01\n",
      "  2.47536440e-01 -2.58949730e-01  1.68866170e-01 -3.56498150e-01\n",
      "  1.57464410e-01]\n",
      "7.928346560732685e+17\n",
      "[-0.02337368 -0.0741214   0.04890249 -0.07090748  0.01373418 -0.2503227\n",
      " -0.24497215 -0.13689654  0.03797691 -0.3661391  -0.10688819 -0.10366957\n",
      " -0.23186165  0.13789663  0.48564556  0.05483152  0.02893094 -0.02759019\n",
      "  0.09212735 -0.18752326 -0.00796542  0.05613751 -0.222922   -0.09333914\n",
      " -0.24901682  0.03806366  0.15309611  0.4546179  -0.00006857  0.02539503\n",
      "  0.08229628  0.14920755  0.12982255 -0.00728711 -0.11124135  0.00626259\n",
      " -0.19010743  0.02046798  0.31223437 -0.13262661  0.06113541  0.24069506\n",
      " -0.1358254  -0.07697917 -0.00760703 -0.012579    0.00302193 -0.13667779\n",
      " -0.36683905  0.03862789  0.00662495 -0.00082774  0.19437651  0.10307985\n",
      "  0.13074255  0.21116014  0.08818266  0.3508905   0.26503035  0.30833733\n",
      "  0.22471297  0.24282065 -0.24025133  0.42768687  0.15486573 -0.19623408\n",
      "  0.0217378  -0.2440046   0.11982349 -0.28572348 -0.11552759 -0.19182177\n",
      "  0.39954573 -0.04263473 -0.23024178  0.4919966   0.11164086 -0.24621953\n",
      " -0.12852895 -0.23492448  0.19109038 -0.08112862 -0.06797215  0.2775448\n",
      "  0.18414433  0.02359104  0.03198783 -0.2771621   0.19502687  0.22535928\n",
      "  0.10627326 -0.02829327 -0.1650319   0.02313197  0.08135543  0.09581152\n",
      " -0.01376918 -0.25788167 -0.04183089  0.16943365  0.19011043  0.18271358\n",
      "  0.32483858  0.43267858  0.0121551  -0.4334923   0.2876624   0.20821871\n",
      " -0.04119529  0.03734496  0.01382058 -0.01814174 -0.17158     0.3501191\n",
      " -0.42880204 -0.5375426   0.1569769  -0.4616965  -0.13446914 -0.191495\n",
      " -0.22131807  0.12278388  0.15442097  0.24753644 -0.25894973  0.16886617\n",
      " -0.35649815  0.15746441]\n"
     ]
    }
   ],
   "source": [
    "print(deepwalk_results[0])\n",
    "print(deepwalk_profile_ids[0])\n",
    "print(deepwalk_columns[0])"
   ]
  },
  {
   "cell_type": "code",
   "execution_count": 5,
   "metadata": {
    "tags": [
     "t_SNE"
    ]
   },
   "outputs": [],
   "source": [
    "# https://scikit-learn.org/stable/modules/generated/sklearn.manifold.TSNE.html\n",
    "from sklearn.manifold import TSNE\n",
    "\n",
    "dimensions_reduced = sk.manifold.TSNE(n_components=2,\n",
    "                 perplexity=30.0, \n",
    "                 early_exaggeration=12.0, \n",
    "                 learning_rate=200.0,\n",
    "                 n_iter=1000,\n",
    "                 n_iter_without_progress=300,\n",
    "                 min_grad_norm=1e-07,\n",
    "                 metric='euclidean', \n",
    "                 init='random', \n",
    "                 verbose=0,\n",
    "                 random_state=None, \n",
    "                 method='barnes_hut', \n",
    "                 angle=0.5, \n",
    "                 n_jobs=None).fit_transform(deepwalk_columns)"
   ]
  },
  {
   "cell_type": "code",
   "execution_count": 6,
   "metadata": {
    "tags": [
     "data"
    ]
   },
   "outputs": [
    {
     "name": "stdout",
     "output_type": "stream",
     "text": [
      "[[ 7.92834656e+17  3.43298984e+00  3.85535278e+01]\n",
      " [ 8.64892250e+17 -1.94336319e+01 -2.48539448e+01]\n",
      " [ 9.36947466e+17 -3.34842563e+00  4.55704737e+00]\n",
      " [ 8.64885425e+17  7.21987152e+00 -3.62936516e+01]\n",
      " [ 8.64886434e+17 -3.78393059e+01  9.07412148e+00]]\n"
     ]
    }
   ],
   "source": [
    "write_to_file = np.concatenate((deepwalk_profile_ids.reshape(-1,1), \n",
    "                                    dimensions_reduced), \n",
    "                               axis=1)\n",
    "print(write_to_file[0:5])"
   ]
  },
  {
   "cell_type": "code",
   "execution_count": 7,
   "metadata": {
    "tags": [
     "write_to_file"
    ]
   },
   "outputs": [],
   "source": [
    "np.savetxt('tSNE.txt', write_to_file, fmt='%d %d %d')"
   ]
  }
 ],
 "metadata": {
  "celltoolbar": "Tags",
  "hide_input": false,
  "kernelspec": {
   "display_name": "Python 3",
   "language": "python",
   "name": "python3"
  },
  "language_info": {
   "codemirror_mode": {
    "name": "ipython",
    "version": 3
   },
   "file_extension": ".py",
   "mimetype": "text/x-python",
   "name": "python",
   "nbconvert_exporter": "python",
   "pygments_lexer": "ipython3",
   "version": "3.7.4"
  }
 },
 "nbformat": 4,
 "nbformat_minor": 4
}
