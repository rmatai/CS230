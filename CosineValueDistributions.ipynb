{
 "cells": [
  {
   "cell_type": "code",
   "execution_count": null,
   "metadata": {},
   "outputs": [],
   "source": [
    "import json\n",
    "from datetime import datetime\n",
    "import kragle as kg\n",
    "import sys\n",
    "import pandas as pd\n",
    "import math\n",
    "import numpy as np\n",
    "import scipy.stats as st\n",
    "import statsmodels.stats.api as sms\n",
    "from sklearn.metrics import r2_score, mean_squared_error\n",
    "import seaborn as sns\n",
    "import matplotlib.pyplot as plt"
   ]
  },
  {
   "cell_type": "code",
   "execution_count": null,
   "metadata": {},
   "outputs": [],
   "source": [
    "LOAD_DATA_QUERY = '''\n",
    "    SELECT\n",
    "        profile_id,\n",
    "        connected_profile_id,\n",
    "        cos_sim\n",
    "    FROM\n",
    "        rmatai.profile_viewing_cosine_FR_new\n",
    "    LIMIT %i\n",
    "'''\n",
    "\n",
    "load_data_query = (LOAD_DATA_QUERY) % (10000)\n",
    "\n",
    "print(load_data_query)"
   ]
  },
  {
   "cell_type": "code",
   "execution_count": null,
   "metadata": {},
   "outputs": [],
   "source": [
    "all_data = kg.genie.SparkSqlJob() \\\n",
    "    .script(load_data_query) \\\n",
    "    .version('2.3.2') \\\n",
    "    .job_name('CosineSimilarity') \\\n",
    "    .execute() \\\n",
    "    .pandas()\n",
    "print('Extraction complete.')"
   ]
  },
  {
   "cell_type": "code",
   "execution_count": null,
   "metadata": {},
   "outputs": [],
   "source": [
    "all_data.head(5)"
   ]
  },
  {
   "cell_type": "code",
   "execution_count": null,
   "metadata": {},
   "outputs": [],
   "source": [
    "all_data.rename({0: 'profile_id1',\n",
    "                 1: 'profile_id2',\n",
    "                 2: 'cosine_similarity'},\n",
    "                axis=1, inplace=True)"
   ]
  },
  {
   "cell_type": "code",
   "execution_count": null,
   "metadata": {},
   "outputs": [],
   "source": [
    "all_data.head(5)"
   ]
  },
  {
   "cell_type": "code",
   "execution_count": null,
   "metadata": {},
   "outputs": [],
   "source": [
    "n, bins, patches = plt.hist(x=all_data['cosine_similarity'], \n",
    "                            bins='auto', \n",
    "                            color='#0504aa',\n",
    "                            alpha=0.7, \n",
    "                            rwidth=0.85)\n",
    "print(bins)\n",
    "plt.grid(axis='y', alpha=0.75)\n",
    "\n",
    "plt.xlabel('Cosine Similarity')\n",
    "plt.ylabel('Frequency')\n",
    "\n",
    "# Set a clean upper y-axis limit.\n",
    "maxfreq = n.max()\n",
    "plt.ylim(ymax=np.ceil(maxfreq / 10) * 10 if maxfreq % 10 else maxfreq + 10)\n",
    "\n",
    "fig_name = 'cosine_distribution.png'\n",
    "plt.savefig(fig_name)\n",
    "\n",
    "plt.show()"
   ]
  },
  {
   "cell_type": "code",
   "execution_count": null,
   "metadata": {},
   "outputs": [],
   "source": [
    "import zipfile as zf\n",
    "files = zf.ZipFile(\"Adjlist_FR.tsv.zip\", 'r')\n",
    "files.extractall('directory to extract')\n",
    "files.close()"
   ]
  },
  {
   "cell_type": "code",
   "execution_count": null,
   "metadata": {},
   "outputs": [],
   "source": []
  }
 ],
 "metadata": {
  "hide_input": false,
  "kernelspec": {
   "display_name": "Python 3",
   "language": "python",
   "name": "python3"
  },
  "language_info": {
   "codemirror_mode": {
    "name": "ipython",
    "version": 3
   },
   "file_extension": ".py",
   "mimetype": "text/x-python",
   "name": "python",
   "nbconvert_exporter": "python",
   "pygments_lexer": "ipython3",
   "version": "3.7.4"
  }
 },
 "nbformat": 4,
 "nbformat_minor": 4
}
