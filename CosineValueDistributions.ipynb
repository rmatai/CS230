{
 "cells": [
  {
   "cell_type": "code",
   "execution_count": 20,
   "metadata": {},
   "outputs": [],
   "source": [
    "import json\n",
    "from datetime import datetime\n",
    "import kragle as kg\n",
    "import sys\n",
    "import pandas as pd\n",
    "import math\n",
    "import numpy as np\n",
    "import scipy.stats as st\n",
    "import statsmodels.stats.api as sms\n",
    "from sklearn.metrics import r2_score, mean_squared_error\n",
    "import seaborn as sns\n",
    "import matplotlib.pyplot as plt"
   ]
  },
  {
   "cell_type": "code",
   "execution_count": 21,
   "metadata": {},
   "outputs": [
    {
     "name": "stdout",
     "output_type": "stream",
     "text": [
      "\n",
      "    SELECT\n",
      "        profile_id,\n",
      "        connected_profile_id,\n",
      "        cos_sim\n",
      "    FROM\n",
      "        rmatai.profile_viewing_cosine_FR_new\n",
      "    LIMIT 10000\n",
      "\n"
     ]
    }
   ],
   "source": [
    "LOAD_DATA_QUERY = '''\n",
    "    SELECT\n",
    "        profile_id,\n",
    "        connected_profile_id,\n",
    "        cos_sim\n",
    "    FROM\n",
    "        rmatai.profile_viewing_cosine_FR_new\n",
    "    LIMIT %i\n",
    "'''\n",
    "\n",
    "load_data_query = (LOAD_DATA_QUERY) % (10000)\n",
    "\n",
    "print(load_data_query)"
   ]
  },
  {
   "cell_type": "code",
   "execution_count": 22,
   "metadata": {},
   "outputs": [
    {
     "name": "stderr",
     "output_type": "stream",
     "text": [
      "INFO 2020-06-07 03:07:05,323 pensive.py(89) Going to fetch result from pensive server: https://pensiveserver.prod.netflix.net/api/v1/gaze/f6d96420-a86b-11ea-a1e9-0ee1df857b87?wait_for_failure=False&wait_for_history_file=False&refresh_cache=False\n"
     ]
    },
    {
     "name": "stdout",
     "output_type": "stream",
     "text": [
      "Extraction complete.\n"
     ]
    }
   ],
   "source": [
    "all_data = kg.genie.SparkSqlJob() \\\n",
    "    .script(load_data_query) \\\n",
    "    .version('2.3.2') \\\n",
    "    .job_name('CosineSimilarity') \\\n",
    "    .execute() \\\n",
    "    .pandas()\n",
    "print('Extraction complete.')"
   ]
  },
  {
   "cell_type": "code",
   "execution_count": 23,
   "metadata": {},
   "outputs": [
    {
     "data": {
      "text/html": [
       "<div>\n",
       "<style scoped>\n",
       "    .dataframe tbody tr th:only-of-type {\n",
       "        vertical-align: middle;\n",
       "    }\n",
       "\n",
       "    .dataframe tbody tr th {\n",
       "        vertical-align: top;\n",
       "    }\n",
       "\n",
       "    .dataframe thead th {\n",
       "        text-align: right;\n",
       "    }\n",
       "</style>\n",
       "<table border=\"1\" class=\"dataframe\">\n",
       "  <thead>\n",
       "    <tr style=\"text-align: right;\">\n",
       "      <th></th>\n",
       "      <th>0</th>\n",
       "      <th>1</th>\n",
       "      <th>2</th>\n",
       "    </tr>\n",
       "  </thead>\n",
       "  <tbody>\n",
       "    <tr>\n",
       "      <th>0</th>\n",
       "      <td>792825885527464903</td>\n",
       "      <td>792825377421175996</td>\n",
       "      <td>0.339539</td>\n",
       "    </tr>\n",
       "    <tr>\n",
       "      <th>1</th>\n",
       "      <td>792825885527464903</td>\n",
       "      <td>216374448298988555</td>\n",
       "      <td>0.319654</td>\n",
       "    </tr>\n",
       "    <tr>\n",
       "      <th>2</th>\n",
       "      <td>792825885527464903</td>\n",
       "      <td>792833484203371806</td>\n",
       "      <td>0.068237</td>\n",
       "    </tr>\n",
       "    <tr>\n",
       "      <th>3</th>\n",
       "      <td>792825885527464903</td>\n",
       "      <td>792835201184336792</td>\n",
       "      <td>0.151582</td>\n",
       "    </tr>\n",
       "    <tr>\n",
       "      <th>4</th>\n",
       "      <td>792825885527464903</td>\n",
       "      <td>936947466103985598</td>\n",
       "      <td>0.634389</td>\n",
       "    </tr>\n",
       "  </tbody>\n",
       "</table>\n",
       "</div>"
      ],
      "text/plain": [
       "                    0                   1         2\n",
       "0  792825885527464903  792825377421175996  0.339539\n",
       "1  792825885527464903  216374448298988555  0.319654\n",
       "2  792825885527464903  792833484203371806  0.068237\n",
       "3  792825885527464903  792835201184336792  0.151582\n",
       "4  792825885527464903  936947466103985598  0.634389"
      ]
     },
     "execution_count": 23,
     "metadata": {},
     "output_type": "execute_result"
    }
   ],
   "source": [
    "all_data.head(5)"
   ]
  },
  {
   "cell_type": "code",
   "execution_count": 24,
   "metadata": {},
   "outputs": [],
   "source": [
    "all_data.rename({0: 'profile_id1',\n",
    "                 1: 'profile_id2',\n",
    "                 2: 'cosine_similarity'},\n",
    "                axis=1, inplace=True)"
   ]
  },
  {
   "cell_type": "code",
   "execution_count": 25,
   "metadata": {},
   "outputs": [
    {
     "data": {
      "text/html": [
       "<div>\n",
       "<style scoped>\n",
       "    .dataframe tbody tr th:only-of-type {\n",
       "        vertical-align: middle;\n",
       "    }\n",
       "\n",
       "    .dataframe tbody tr th {\n",
       "        vertical-align: top;\n",
       "    }\n",
       "\n",
       "    .dataframe thead th {\n",
       "        text-align: right;\n",
       "    }\n",
       "</style>\n",
       "<table border=\"1\" class=\"dataframe\">\n",
       "  <thead>\n",
       "    <tr style=\"text-align: right;\">\n",
       "      <th></th>\n",
       "      <th>profile_id1</th>\n",
       "      <th>profile_id2</th>\n",
       "      <th>cosine_similarity</th>\n",
       "    </tr>\n",
       "  </thead>\n",
       "  <tbody>\n",
       "    <tr>\n",
       "      <th>0</th>\n",
       "      <td>792825885527464903</td>\n",
       "      <td>792825377421175996</td>\n",
       "      <td>0.339539</td>\n",
       "    </tr>\n",
       "    <tr>\n",
       "      <th>1</th>\n",
       "      <td>792825885527464903</td>\n",
       "      <td>216374448298988555</td>\n",
       "      <td>0.319654</td>\n",
       "    </tr>\n",
       "    <tr>\n",
       "      <th>2</th>\n",
       "      <td>792825885527464903</td>\n",
       "      <td>792833484203371806</td>\n",
       "      <td>0.068237</td>\n",
       "    </tr>\n",
       "    <tr>\n",
       "      <th>3</th>\n",
       "      <td>792825885527464903</td>\n",
       "      <td>792835201184336792</td>\n",
       "      <td>0.151582</td>\n",
       "    </tr>\n",
       "    <tr>\n",
       "      <th>4</th>\n",
       "      <td>792825885527464903</td>\n",
       "      <td>936947466103985598</td>\n",
       "      <td>0.634389</td>\n",
       "    </tr>\n",
       "  </tbody>\n",
       "</table>\n",
       "</div>"
      ],
      "text/plain": [
       "          profile_id1         profile_id2  cosine_similarity\n",
       "0  792825885527464903  792825377421175996           0.339539\n",
       "1  792825885527464903  216374448298988555           0.319654\n",
       "2  792825885527464903  792833484203371806           0.068237\n",
       "3  792825885527464903  792835201184336792           0.151582\n",
       "4  792825885527464903  936947466103985598           0.634389"
      ]
     },
     "execution_count": 25,
     "metadata": {},
     "output_type": "execute_result"
    }
   ],
   "source": [
    "all_data.head(5)"
   ]
  },
  {
   "cell_type": "code",
   "execution_count": 29,
   "metadata": {},
   "outputs": [
    {
     "name": "stdout",
     "output_type": "stream",
     "text": [
      "[0.         0.02581832 0.05163664 0.07745496 0.10327328 0.1290916\n",
      " 0.15490992 0.18072824 0.20654656 0.23236488 0.25818321 0.28400153\n",
      " 0.30981985 0.33563817 0.36145649 0.38727481 0.41309313 0.43891145\n",
      " 0.46472977 0.49054809 0.51636641 0.54218473 0.56800305 0.59382137\n",
      " 0.61963969 0.64545801 0.67127633 0.69709465 0.72291298 0.7487313\n",
      " 0.77454962 0.80036794 0.82618626 0.85200458 0.8778229  0.90364122\n",
      " 0.92945954 0.95527786]\n"
     ]
    },
    {
     "data": {
      "image/png": "[encoded data removed]",
      "text/plain": [
       "<Figure size 432x288 with 1 Axes>"
      ]
     },
     "metadata": {
      "needs_background": "light"
     },
     "output_type": "display_data"
    }
   ],
   "source": [
    "n, bins, patches = plt.hist(x=all_data['cosine_similarity'], \n",
    "                            bins='auto', \n",
    "                            color='#0504aa',\n",
    "                            alpha=0.7, \n",
    "                            rwidth=0.85)\n",
    "print(bins)\n",
    "plt.grid(axis='y', alpha=0.75)\n",
    "\n",
    "plt.xlabel('Cosine Similarity')\n",
    "plt.ylabel('Frequency')\n",
    "\n",
    "# Set a clean upper y-axis limit.\n",
    "maxfreq = n.max()\n",
    "plt.ylim(ymax=np.ceil(maxfreq / 10) * 10 if maxfreq % 10 else maxfreq + 10)\n",
    "\n",
    "fig_name = 'cosine_distribution.png'\n",
    "plt.savefig(fig_name)\n",
    "\n",
    "plt.show()"
   ]
  },
  {
   "cell_type": "code",
   "execution_count": 28,
   "metadata": {},
   "outputs": [],
   "source": [
    "import zipfile as zf\n",
    "files = zf.ZipFile(\"Adjlist_FR.tsv.zip\", 'r')\n",
    "files.extractall('directory to extract')\n",
    "files.close()"
   ]
  },
  {
   "cell_type": "code",
   "execution_count": null,
   "metadata": {},
   "outputs": [],
   "source": []
  }
 ],
 "metadata": {
  "hide_input": false,
  "kernelspec": {
   "display_name": "Python 3",
   "language": "python",
   "name": "python3"
  },
  "language_info": {
   "codemirror_mode": {
    "name": "ipython",
    "version": 3
   },
   "file_extension": ".py",
   "mimetype": "text/x-python",
   "name": "python",
   "nbconvert_exporter": "python",
   "pygments_lexer": "ipython3",
   "version": "3.7.4"
  }
 },
 "nbformat": 4,
 "nbformat_minor": 4
}
