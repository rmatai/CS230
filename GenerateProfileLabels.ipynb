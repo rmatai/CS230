{
 "cells": [
  {
   "cell_type": "code",
   "execution_count": 1,
   "metadata": {
    "tags": [
     "libs"
    ]
   },
   "outputs": [],
   "source": [
    "import json\n",
    "from datetime import datetime\n",
    "import kragle as kg\n",
    "import sys\n",
    "import pandas as pd\n",
    "import math\n",
    "import numpy as np\n",
    "import scipy.stats as st\n",
    "import statsmodels.stats.api as sms\n",
    "from sklearn.metrics import r2_score, mean_squared_error\n",
    "import seaborn as sns\n",
    "import matplotlib.pyplot as plt\n",
    "import matplotlib.mlab as mlab\n",
    "import matplotlib.ticker as ticker"
   ]
  },
  {
   "cell_type": "code",
   "execution_count": 2,
   "metadata": {
    "tags": [
     "query"
    ]
   },
   "outputs": [
    {
     "name": "stdout",
     "output_type": "stream",
     "text": [
      "\n",
      "    SELECT\n",
      "        profile_id,\n",
      "        action,\n",
      "        affliction__adversity,\n",
      "        alternative_comedy,\n",
      "        animated_series,\n",
      "        anime,\n",
      "        art__music,\n",
      "        bollywood,\n",
      "        business__finance,\n",
      "        christian_docs,\n",
      "        comedy, \n",
      "        docuseries,\n",
      "        drama,\n",
      "        english_standup,\n",
      "        family_animation,\n",
      "        family_film,\n",
      "        foreignlanguage_mixed,\n",
      "        formats__food,\n",
      "        genre,\n",
      "        history,\n",
      "        horror,\n",
      "        indian_regional_language,\n",
      "        kids_live_action,\n",
      "        kids_superhero,\n",
      "        lgbtq,\n",
      "        military,\n",
      "        mysterythrillers,\n",
      "        nonenglish_standup,\n",
      "        other,\n",
      "        other_kids,\n",
      "        politics__power,\n",
      "        preschool,\n",
      "        romance,\n",
      "        scifi,\n",
      "        self_improvement,\n",
      "        soaps,\n",
      "        sports,\n",
      "        the_natural_world,\n",
      "        thriller\n",
      "    FROM\n",
      "        rmatai.profile_viewing_pivot_FR_new3\n",
      "\n"
     ]
    }
   ],
   "source": [
    "LOAD_DATA_QUERY = '''\n",
    "    SELECT\n",
    "        profile_id,\n",
    "        action,\n",
    "        affliction__adversity,\n",
    "        alternative_comedy,\n",
    "        animated_series,\n",
    "        anime,\n",
    "        art__music,\n",
    "        bollywood,\n",
    "        business__finance,\n",
    "        christian_docs,\n",
    "        comedy, \n",
    "        docuseries,\n",
    "        drama,\n",
    "        english_standup,\n",
    "        family_animation,\n",
    "        family_film,\n",
    "        foreignlanguage_mixed,\n",
    "        formats__food,\n",
    "        genre,\n",
    "        history,\n",
    "        horror,\n",
    "        indian_regional_language,\n",
    "        kids_live_action,\n",
    "        kids_superhero,\n",
    "        lgbtq,\n",
    "        military,\n",
    "        mysterythrillers,\n",
    "        nonenglish_standup,\n",
    "        other,\n",
    "        other_kids,\n",
    "        politics__power,\n",
    "        preschool,\n",
    "        romance,\n",
    "        scifi,\n",
    "        self_improvement,\n",
    "        soaps,\n",
    "        sports,\n",
    "        the_natural_world,\n",
    "        thriller\n",
    "    FROM\n",
    "        rmatai.profile_viewing_pivot_FR_new3\n",
    "'''\n",
    "\n",
    "load_data_query = (LOAD_DATA_QUERY)\n",
    "\n",
    "print(load_data_query)"
   ]
  },
  {
   "cell_type": "code",
   "execution_count": 3,
   "metadata": {
    "tags": [
     "run_query"
    ]
   },
   "outputs": [
    {
     "name": "stderr",
     "output_type": "stream",
     "text": [
      "INFO 2020-06-07 04:18:53,130 pensive.py(89) Going to fetch result from pensive server: https://pensiveserver.prod.netflix.net/api/v1/gaze/fe0ceaf0-a875-11ea-9fbf-0ee1df857b87?wait_for_failure=False&wait_for_history_file=False&refresh_cache=False\n"
     ]
    },
    {
     "name": "stdout",
     "output_type": "stream",
     "text": [
      "Extraction complete.\n"
     ]
    }
   ],
   "source": [
    "all_data = kg.genie.SparkSqlJob() \\\n",
    "    .script(load_data_query) \\\n",
    "    .version('2.3.2') \\\n",
    "    .job_name('StreamingBehavior') \\\n",
    "    .execute() \\\n",
    "    .pandas()\n",
    "print('Extraction complete.')"
   ]
  },
  {
   "cell_type": "code",
   "execution_count": 4,
   "metadata": {
    "tags": [
     "debug"
    ]
   },
   "outputs": [
    {
     "data": {
      "text/html": [
       "<div>\n",
       "<style scoped>\n",
       "    .dataframe tbody tr th:only-of-type {\n",
       "        vertical-align: middle;\n",
       "    }\n",
       "\n",
       "    .dataframe tbody tr th {\n",
       "        vertical-align: top;\n",
       "    }\n",
       "\n",
       "    .dataframe thead th {\n",
       "        text-align: right;\n",
       "    }\n",
       "</style>\n",
       "<table border=\"1\" class=\"dataframe\">\n",
       "  <thead>\n",
       "    <tr style=\"text-align: right;\">\n",
       "      <th></th>\n",
       "      <th>0</th>\n",
       "      <th>1</th>\n",
       "      <th>2</th>\n",
       "      <th>3</th>\n",
       "      <th>4</th>\n",
       "      <th>5</th>\n",
       "      <th>6</th>\n",
       "      <th>7</th>\n",
       "      <th>8</th>\n",
       "      <th>9</th>\n",
       "      <th>...</th>\n",
       "      <th>29</th>\n",
       "      <th>30</th>\n",
       "      <th>31</th>\n",
       "      <th>32</th>\n",
       "      <th>33</th>\n",
       "      <th>34</th>\n",
       "      <th>35</th>\n",
       "      <th>36</th>\n",
       "      <th>37</th>\n",
       "      <th>38</th>\n",
       "    </tr>\n",
       "  </thead>\n",
       "  <tbody>\n",
       "    <tr>\n",
       "      <th>0</th>\n",
       "      <td>792825885527464903</td>\n",
       "      <td>2569</td>\n",
       "      <td>0</td>\n",
       "      <td>0</td>\n",
       "      <td>0</td>\n",
       "      <td>220</td>\n",
       "      <td>1</td>\n",
       "      <td>117</td>\n",
       "      <td>0</td>\n",
       "      <td>0</td>\n",
       "      <td>...</td>\n",
       "      <td>0</td>\n",
       "      <td>0</td>\n",
       "      <td>0</td>\n",
       "      <td>6630</td>\n",
       "      <td>0</td>\n",
       "      <td>4985</td>\n",
       "      <td>1</td>\n",
       "      <td>0</td>\n",
       "      <td>0</td>\n",
       "      <td>6180</td>\n",
       "    </tr>\n",
       "    <tr>\n",
       "      <th>1</th>\n",
       "      <td>792825377421175996</td>\n",
       "      <td>36736</td>\n",
       "      <td>0</td>\n",
       "      <td>0</td>\n",
       "      <td>4</td>\n",
       "      <td>0</td>\n",
       "      <td>0</td>\n",
       "      <td>0</td>\n",
       "      <td>0</td>\n",
       "      <td>0</td>\n",
       "      <td>...</td>\n",
       "      <td>0</td>\n",
       "      <td>0</td>\n",
       "      <td>31</td>\n",
       "      <td>0</td>\n",
       "      <td>1878</td>\n",
       "      <td>0</td>\n",
       "      <td>8267</td>\n",
       "      <td>0</td>\n",
       "      <td>0</td>\n",
       "      <td>28761</td>\n",
       "    </tr>\n",
       "    <tr>\n",
       "      <th>2</th>\n",
       "      <td>216374448298988555</td>\n",
       "      <td>12703</td>\n",
       "      <td>6471</td>\n",
       "      <td>0</td>\n",
       "      <td>0</td>\n",
       "      <td>0</td>\n",
       "      <td>0</td>\n",
       "      <td>0</td>\n",
       "      <td>0</td>\n",
       "      <td>0</td>\n",
       "      <td>...</td>\n",
       "      <td>0</td>\n",
       "      <td>0</td>\n",
       "      <td>0</td>\n",
       "      <td>0</td>\n",
       "      <td>0</td>\n",
       "      <td>335</td>\n",
       "      <td>0</td>\n",
       "      <td>0</td>\n",
       "      <td>1285</td>\n",
       "      <td>5827</td>\n",
       "    </tr>\n",
       "    <tr>\n",
       "      <th>3</th>\n",
       "      <td>792833484203371806</td>\n",
       "      <td>916</td>\n",
       "      <td>0</td>\n",
       "      <td>0</td>\n",
       "      <td>0</td>\n",
       "      <td>5880</td>\n",
       "      <td>0</td>\n",
       "      <td>289</td>\n",
       "      <td>0</td>\n",
       "      <td>0</td>\n",
       "      <td>...</td>\n",
       "      <td>0</td>\n",
       "      <td>0</td>\n",
       "      <td>0</td>\n",
       "      <td>591</td>\n",
       "      <td>982</td>\n",
       "      <td>0</td>\n",
       "      <td>459</td>\n",
       "      <td>0</td>\n",
       "      <td>0</td>\n",
       "      <td>0</td>\n",
       "    </tr>\n",
       "    <tr>\n",
       "      <th>4</th>\n",
       "      <td>792835201184336792</td>\n",
       "      <td>17497</td>\n",
       "      <td>6549</td>\n",
       "      <td>0</td>\n",
       "      <td>20479</td>\n",
       "      <td>1816</td>\n",
       "      <td>0</td>\n",
       "      <td>0</td>\n",
       "      <td>0</td>\n",
       "      <td>0</td>\n",
       "      <td>...</td>\n",
       "      <td>0</td>\n",
       "      <td>0</td>\n",
       "      <td>49</td>\n",
       "      <td>3</td>\n",
       "      <td>0</td>\n",
       "      <td>0</td>\n",
       "      <td>113</td>\n",
       "      <td>0</td>\n",
       "      <td>0</td>\n",
       "      <td>0</td>\n",
       "    </tr>\n",
       "  </tbody>\n",
       "</table>\n",
       "<p>5 rows × 39 columns</p>\n",
       "</div>"
      ],
      "text/plain": [
       "                   0      1     2   3      4     5   6    7   8   9   ...  29  \\\n",
       "0  792825885527464903   2569     0   0      0   220   1  117   0   0  ...   0   \n",
       "1  792825377421175996  36736     0   0      4     0   0    0   0   0  ...   0   \n",
       "2  216374448298988555  12703  6471   0      0     0   0    0   0   0  ...   0   \n",
       "3  792833484203371806    916     0   0      0  5880   0  289   0   0  ...   0   \n",
       "4  792835201184336792  17497  6549   0  20479  1816   0    0   0   0  ...   0   \n",
       "\n",
       "   30  31    32    33    34    35  36    37     38  \n",
       "0   0   0  6630     0  4985     1   0     0   6180  \n",
       "1   0  31     0  1878     0  8267   0     0  28761  \n",
       "2   0   0     0     0   335     0   0  1285   5827  \n",
       "3   0   0   591   982     0   459   0     0      0  \n",
       "4   0  49     3     0     0   113   0     0      0  \n",
       "\n",
       "[5 rows x 39 columns]"
      ]
     },
     "execution_count": 4,
     "metadata": {},
     "output_type": "execute_result"
    }
   ],
   "source": [
    "all_data.head(5)"
   ]
  },
  {
   "cell_type": "code",
   "execution_count": 5,
   "metadata": {
    "tags": [
     "rename_data"
    ]
   },
   "outputs": [],
   "source": [
    "all_data.rename({0: 'profile_id', # profile_id should always be at index 0 for future logic to apply.\n",
    "                 1: 'action',\n",
    "                 2: 'affliction__adversity',\n",
    "                 3: 'alternative_comedy',\n",
    "                 4: 'animated_series',\n",
    "                 5: 'anime',\n",
    "                 6: 'art__music',\n",
    "                 7: 'bollywood',\n",
    "                 8: 'business__finance',\n",
    "                 9: 'christian_docs',\n",
    "                10: 'comedy',\n",
    "                11: 'docuseries',\n",
    "                12: 'drama',\n",
    "                13: 'english_standup',\n",
    "                14: 'family_animation',\n",
    "                15: 'family_film',\n",
    "                16: 'foreignlanguage_mixed',\n",
    "                17: 'formats__food',\n",
    "                18: 'genre',\n",
    "                19: 'history',\n",
    "                20: 'horror',\n",
    "                21: 'indian_regional_language',\n",
    "                22: 'kids_live_action',\n",
    "                23: 'kids_superhero',\n",
    "                24: 'lgbtq',\n",
    "                25: 'military',\n",
    "                26: 'mysterythrillers',\n",
    "                27: 'nonenglish_standup',\n",
    "                28: 'other',\n",
    "                29: 'other_kids',\n",
    "                30: 'politics__power',\n",
    "                31: 'preschool',\n",
    "                32: 'romance',\n",
    "                33: 'scifi',\n",
    "                34: 'self_improvement',\n",
    "                35: 'soaps',\n",
    "                36: 'sports',\n",
    "                37: 'the_natural_world',\n",
    "                38: 'thriller'},\n",
    "                axis=1, inplace=True)"
   ]
  },
  {
   "cell_type": "code",
   "execution_count": 6,
   "metadata": {
    "scrolled": false,
    "tags": [
     "debug"
    ]
   },
   "outputs": [
    {
     "data": {
      "text/html": [
       "<div>\n",
       "<style scoped>\n",
       "    .dataframe tbody tr th:only-of-type {\n",
       "        vertical-align: middle;\n",
       "    }\n",
       "\n",
       "    .dataframe tbody tr th {\n",
       "        vertical-align: top;\n",
       "    }\n",
       "\n",
       "    .dataframe thead th {\n",
       "        text-align: right;\n",
       "    }\n",
       "</style>\n",
       "<table border=\"1\" class=\"dataframe\">\n",
       "  <thead>\n",
       "    <tr style=\"text-align: right;\">\n",
       "      <th></th>\n",
       "      <th>profile_id</th>\n",
       "      <th>action</th>\n",
       "      <th>affliction__adversity</th>\n",
       "      <th>alternative_comedy</th>\n",
       "      <th>animated_series</th>\n",
       "      <th>anime</th>\n",
       "      <th>art__music</th>\n",
       "      <th>bollywood</th>\n",
       "      <th>business__finance</th>\n",
       "      <th>christian_docs</th>\n",
       "      <th>...</th>\n",
       "      <th>other_kids</th>\n",
       "      <th>politics__power</th>\n",
       "      <th>preschool</th>\n",
       "      <th>romance</th>\n",
       "      <th>scifi</th>\n",
       "      <th>self_improvement</th>\n",
       "      <th>soaps</th>\n",
       "      <th>sports</th>\n",
       "      <th>the_natural_world</th>\n",
       "      <th>thriller</th>\n",
       "    </tr>\n",
       "  </thead>\n",
       "  <tbody>\n",
       "    <tr>\n",
       "      <th>0</th>\n",
       "      <td>792825885527464903</td>\n",
       "      <td>2569</td>\n",
       "      <td>0</td>\n",
       "      <td>0</td>\n",
       "      <td>0</td>\n",
       "      <td>220</td>\n",
       "      <td>1</td>\n",
       "      <td>117</td>\n",
       "      <td>0</td>\n",
       "      <td>0</td>\n",
       "      <td>...</td>\n",
       "      <td>0</td>\n",
       "      <td>0</td>\n",
       "      <td>0</td>\n",
       "      <td>6630</td>\n",
       "      <td>0</td>\n",
       "      <td>4985</td>\n",
       "      <td>1</td>\n",
       "      <td>0</td>\n",
       "      <td>0</td>\n",
       "      <td>6180</td>\n",
       "    </tr>\n",
       "    <tr>\n",
       "      <th>1</th>\n",
       "      <td>792825377421175996</td>\n",
       "      <td>36736</td>\n",
       "      <td>0</td>\n",
       "      <td>0</td>\n",
       "      <td>4</td>\n",
       "      <td>0</td>\n",
       "      <td>0</td>\n",
       "      <td>0</td>\n",
       "      <td>0</td>\n",
       "      <td>0</td>\n",
       "      <td>...</td>\n",
       "      <td>0</td>\n",
       "      <td>0</td>\n",
       "      <td>31</td>\n",
       "      <td>0</td>\n",
       "      <td>1878</td>\n",
       "      <td>0</td>\n",
       "      <td>8267</td>\n",
       "      <td>0</td>\n",
       "      <td>0</td>\n",
       "      <td>28761</td>\n",
       "    </tr>\n",
       "  </tbody>\n",
       "</table>\n",
       "<p>2 rows × 39 columns</p>\n",
       "</div>"
      ],
      "text/plain": [
       "           profile_id  action  affliction__adversity  alternative_comedy  \\\n",
       "0  792825885527464903    2569                      0                   0   \n",
       "1  792825377421175996   36736                      0                   0   \n",
       "\n",
       "   animated_series  anime  art__music  bollywood  business__finance  \\\n",
       "0                0    220           1        117                  0   \n",
       "1                4      0           0          0                  0   \n",
       "\n",
       "   christian_docs  ...  other_kids  politics__power  preschool  romance  \\\n",
       "0               0  ...           0                0          0     6630   \n",
       "1               0  ...           0                0         31        0   \n",
       "\n",
       "   scifi  self_improvement  soaps  sports  the_natural_world  thriller  \n",
       "0      0              4985      1       0                  0      6180  \n",
       "1   1878                 0   8267       0                  0     28761  \n",
       "\n",
       "[2 rows x 39 columns]"
      ]
     },
     "execution_count": 6,
     "metadata": {},
     "output_type": "execute_result"
    }
   ],
   "source": [
    "all_data.head(2)"
   ]
  },
  {
   "cell_type": "code",
   "execution_count": 7,
   "metadata": {
    "tags": [
     "global_vars"
    ]
   },
   "outputs": [
    {
     "name": "stdout",
     "output_type": "stream",
     "text": [
      "Index(['action', 'affliction__adversity', 'alternative_comedy',\n",
      "       'animated_series', 'anime', 'art__music', 'bollywood',\n",
      "       'business__finance', 'christian_docs', 'comedy', 'docuseries', 'drama',\n",
      "       'english_standup', 'family_animation', 'family_film',\n",
      "       'foreignlanguage_mixed', 'formats__food', 'genre', 'history', 'horror',\n",
      "       'indian_regional_language', 'kids_live_action', 'kids_superhero',\n",
      "       'lgbtq', 'military', 'mysterythrillers', 'nonenglish_standup', 'other',\n",
      "       'other_kids', 'politics__power', 'preschool', 'romance', 'scifi',\n",
      "       'self_improvement', 'soaps', 'sports', 'the_natural_world', 'thriller'],\n",
      "      dtype='object')\n"
     ]
    }
   ],
   "source": [
    "ALL_DATA_W_O_PROFILE_ID = all_data.drop(['profile_id'], axis=1)\n",
    "VERTICAL_LABELS = ALL_DATA_W_O_PROFILE_ID.columns\n",
    "print(VERTICAL_LABELS)"
   ]
  },
  {
   "cell_type": "code",
   "execution_count": 8,
   "metadata": {
    "tags": [
     "find_label"
    ]
   },
   "outputs": [
    {
     "name": "stdout",
     "output_type": "stream",
     "text": [
      "['other' 'action' 'action' 'anime' 'animated_series']\n"
     ]
    }
   ],
   "source": [
    "most_watched_vertical_label = ALL_DATA_W_O_PROFILE_ID.idxmax(axis=1, skipna=True).to_numpy()\n",
    "print(most_watched_vertical_label[0:5])"
   ]
  },
  {
   "cell_type": "code",
   "execution_count": 9,
   "metadata": {
    "tags": [
     "data"
    ]
   },
   "outputs": [
    {
     "name": "stdout",
     "output_type": "stream",
     "text": [
      "[792825885527464903 792825377421175996 216374448298988555\n",
      " 792833484203371806 792835201184336792]\n"
     ]
    }
   ],
   "source": [
    "all_profile_ids = all_data['profile_id'].values\n",
    "print(all_profile_ids[0:5])"
   ]
  },
  {
   "cell_type": "code",
   "execution_count": 10,
   "metadata": {
    "tags": [
     "data"
    ]
   },
   "outputs": [
    {
     "name": "stdout",
     "output_type": "stream",
     "text": [
      "[[792825377421175996 'action']\n",
      " [216374448298988555 'action']\n",
      " [792833484203371806 'anime']\n",
      " [792835201184336792 'animated_series']]\n"
     ]
    }
   ],
   "source": [
    "write_to_file = np.concatenate((all_profile_ids.reshape(-1,1), most_watched_vertical_label.reshape(-1,1)), \n",
    "                               axis=1)\n",
    "print(write_to_file[1:5])"
   ]
  },
  {
   "cell_type": "code",
   "execution_count": 11,
   "metadata": {
    "tags": [
     "write_to_file"
    ]
   },
   "outputs": [],
   "source": [
    "np.savetxt('labels.txt', write_to_file, fmt='%d %s')"
   ]
  }
 ],
 "metadata": {
  "celltoolbar": "Tags",
  "hide_input": false,
  "kernelspec": {
   "display_name": "Python 3",
   "language": "python",
   "name": "python3"
  },
  "language_info": {
   "codemirror_mode": {
    "name": "ipython",
    "version": 3
   },
   "file_extension": ".py",
   "mimetype": "text/x-python",
   "name": "python",
   "nbconvert_exporter": "python",
   "pygments_lexer": "ipython3",
   "version": "3.7.4"
  }
 },
 "nbformat": 4,
 "nbformat_minor": 4
}
