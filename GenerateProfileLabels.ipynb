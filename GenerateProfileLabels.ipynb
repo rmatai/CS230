{
 "cells": [
  {
   "cell_type": "code",
   "execution_count": null,
   "metadata": {
    "tags": [
     "libs"
    ]
   },
   "outputs": [],
   "source": [
    "import json\n",
    "from datetime import datetime\n",
    "import kragle as kg\n",
    "import sys\n",
    "import pandas as pd\n",
    "import math\n",
    "import numpy as np\n",
    "import scipy.stats as st\n",
    "import statsmodels.stats.api as sms\n",
    "from sklearn.metrics import r2_score, mean_squared_error\n",
    "import seaborn as sns\n",
    "import matplotlib.pyplot as plt\n",
    "import matplotlib.mlab as mlab\n",
    "import matplotlib.ticker as ticker"
   ]
  },
  {
   "cell_type": "code",
   "execution_count": null,
   "metadata": {
    "tags": [
     "query"
    ]
   },
   "outputs": [],
   "source": [
    "LOAD_DATA_QUERY = '''\n",
    "    SELECT\n",
    "        profile_id,\n",
    "        action,\n",
    "        affliction__adversity,\n",
    "        alternative_comedy,\n",
    "        animated_series,\n",
    "        anime,\n",
    "        art__music,\n",
    "        bollywood,\n",
    "        business__finance,\n",
    "        christian_docs,\n",
    "        comedy, \n",
    "        docuseries,\n",
    "        drama,\n",
    "        english_standup,\n",
    "        family_animation,\n",
    "        family_film,\n",
    "        foreignlanguage_mixed,\n",
    "        formats__food,\n",
    "        genre,\n",
    "        history,\n",
    "        horror,\n",
    "        indian_regional_language,\n",
    "        kids_live_action,\n",
    "        kids_superhero,\n",
    "        lgbtq,\n",
    "        military,\n",
    "        mysterythrillers,\n",
    "        nonenglish_standup,\n",
    "        other,\n",
    "        other_kids,\n",
    "        politics__power,\n",
    "        preschool,\n",
    "        romance,\n",
    "        scifi,\n",
    "        self_improvement,\n",
    "        soaps,\n",
    "        sports,\n",
    "        the_natural_world,\n",
    "        thriller\n",
    "    FROM\n",
    "        rmatai.profile_viewing_pivot_FR_new3\n",
    "'''\n",
    "\n",
    "load_data_query = (LOAD_DATA_QUERY)\n",
    "\n",
    "print(load_data_query)"
   ]
  },
  {
   "cell_type": "code",
   "execution_count": null,
   "metadata": {
    "tags": [
     "run_query"
    ]
   },
   "outputs": [],
   "source": [
    "all_data = kg.genie.SparkSqlJob() \\\n",
    "    .script(load_data_query) \\\n",
    "    .version('2.3.2') \\\n",
    "    .job_name('StreamingBehavior') \\\n",
    "    .execute() \\\n",
    "    .pandas()\n",
    "print('Extraction complete.')"
   ]
  },
  {
   "cell_type": "code",
   "execution_count": null,
   "metadata": {
    "tags": [
     "debug"
    ]
   },
   "outputs": [],
   "source": [
    "all_data.head(5)"
   ]
  },
  {
   "cell_type": "code",
   "execution_count": null,
   "metadata": {
    "tags": [
     "rename_data"
    ]
   },
   "outputs": [],
   "source": [
    "all_data.rename({0: 'profile_id', # profile_id should always be at index 0 for future logic to apply.\n",
    "                 1: 'action',\n",
    "                 2: 'affliction__adversity',\n",
    "                 3: 'alternative_comedy',\n",
    "                 4: 'animated_series',\n",
    "                 5: 'anime',\n",
    "                 6: 'art__music',\n",
    "                 7: 'bollywood',\n",
    "                 8: 'business__finance',\n",
    "                 9: 'christian_docs',\n",
    "                10: 'comedy',\n",
    "                11: 'docuseries',\n",
    "                12: 'drama',\n",
    "                13: 'english_standup',\n",
    "                14: 'family_animation',\n",
    "                15: 'family_film',\n",
    "                16: 'foreignlanguage_mixed',\n",
    "                17: 'formats__food',\n",
    "                18: 'genre',\n",
    "                19: 'history',\n",
    "                20: 'horror',\n",
    "                21: 'indian_regional_language',\n",
    "                22: 'kids_live_action',\n",
    "                23: 'kids_superhero',\n",
    "                24: 'lgbtq',\n",
    "                25: 'military',\n",
    "                26: 'mysterythrillers',\n",
    "                27: 'nonenglish_standup',\n",
    "                28: 'other',\n",
    "                29: 'other_kids',\n",
    "                30: 'politics__power',\n",
    "                31: 'preschool',\n",
    "                32: 'romance',\n",
    "                33: 'scifi',\n",
    "                34: 'self_improvement',\n",
    "                35: 'soaps',\n",
    "                36: 'sports',\n",
    "                37: 'the_natural_world',\n",
    "                38: 'thriller'},\n",
    "                axis=1, inplace=True)"
   ]
  },
  {
   "cell_type": "code",
   "execution_count": null,
   "metadata": {
    "scrolled": false,
    "tags": [
     "debug"
    ]
   },
   "outputs": [],
   "source": [
    "all_data.head(2)"
   ]
  },
  {
   "cell_type": "code",
   "execution_count": null,
   "metadata": {
    "tags": [
     "global_vars"
    ]
   },
   "outputs": [],
   "source": [
    "ALL_DATA_W_O_PROFILE_ID = all_data.drop(['profile_id'], axis=1)\n",
    "VERTICAL_LABELS = ALL_DATA_W_O_PROFILE_ID.columns\n",
    "print(VERTICAL_LABELS)"
   ]
  },
  {
   "cell_type": "code",
   "execution_count": null,
   "metadata": {
    "tags": [
     "find_label"
    ]
   },
   "outputs": [],
   "source": [
    "most_watched_vertical_label = ALL_DATA_W_O_PROFILE_ID.idxmax(axis=1, skipna=True).to_numpy()\n",
    "print(most_watched_vertical_label[0:5])"
   ]
  },
  {
   "cell_type": "code",
   "execution_count": null,
   "metadata": {
    "tags": [
     "data"
    ]
   },
   "outputs": [],
   "source": [
    "all_profile_ids = all_data['profile_id'].values\n",
    "print(all_profile_ids[0:5])"
   ]
  },
  {
   "cell_type": "code",
   "execution_count": null,
   "metadata": {
    "tags": [
     "data"
    ]
   },
   "outputs": [],
   "source": [
    "write_to_file = np.concatenate((all_profile_ids.reshape(-1,1), most_watched_vertical_label.reshape(-1,1)), \n",
    "                               axis=1)\n",
    "print(write_to_file[1:5])"
   ]
  },
  {
   "cell_type": "code",
   "execution_count": null,
   "metadata": {
    "tags": [
     "write_to_file"
    ]
   },
   "outputs": [],
   "source": [
    "np.savetxt('labels.txt', write_to_file, fmt='%d %s')"
   ]
  }
 ],
 "metadata": {
  "celltoolbar": "Tags",
  "hide_input": false,
  "kernelspec": {
   "display_name": "Python 3",
   "language": "python",
   "name": "python3"
  },
  "language_info": {
   "codemirror_mode": {
    "name": "ipython",
    "version": 3
   },
   "file_extension": ".py",
   "mimetype": "text/x-python",
   "name": "python",
   "nbconvert_exporter": "python",
   "pygments_lexer": "ipython3",
   "version": "3.7.4"
  }
 },
 "nbformat": 4,
 "nbformat_minor": 4
}
